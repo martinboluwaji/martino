{
  "nbformat": 4,
  "nbformat_minor": 0,
  "metadata": {
    "colab": {
      "name": "DS026_Project 1.ipynb",
      "provenance": [],
      "collapsed_sections": [],
      "include_colab_link": true
    },
    "kernelspec": {
      "name": "python3",
      "display_name": "Python 3"
    },
    "language_info": {
      "name": "python"
    }
  },
  "cells": [
    {
      "cell_type": "markdown",
      "metadata": {
        "id": "view-in-github",
        "colab_type": "text"
      },
      "source": [
        "<a href=\"https://colab.research.google.com/github/martinboluwaji/martino/blob/master/DS026_Project_1.ipynb\" target=\"_parent\"><img src=\"https://colab.research.google.com/assets/colab-badge.svg\" alt=\"Open In Colab\"/></a>"
      ]
    },
    {
      "cell_type": "markdown",
      "source": [
        "# Project 1\n",
        "\n",
        "## Reg_no: DS026"
      ],
      "metadata": {
        "id": "nGO3Ur9iAIm0"
      }
    },
    {
      "cell_type": "markdown",
      "source": [
        "It's important that you fill in your registration number for proper documentation."
      ],
      "metadata": {
        "id": "CSVqJgaZA3UI"
      }
    },
    {
      "cell_type": "markdown",
      "source": [
        "In this project you will be creating your own data set from scratch.\n",
        "\n",
        "Follow the instructions below"
      ],
      "metadata": {
        "id": "xlLISCys_Q7f"
      }
    },
    {
      "cell_type": "markdown",
      "source": [
        "## Import numpy and pandas"
      ],
      "metadata": {
        "id": "zmU6_PD5BTIR"
      }
    },
    {
      "cell_type": "code",
      "source": [
        "# Complete this\n",
        "import numpy as np \n",
        "import pandas as pd"
      ],
      "metadata": {
        "id": "hWbGgV5rBYLR"
      },
      "execution_count": 1,
      "outputs": []
    },
    {
      "cell_type": "markdown",
      "source": [
        "### Create  a dictionary (named student) of 10 students with name, relationship status, age and department columns"
      ],
      "metadata": {
        "id": "BcudwDK4-kpd"
      }
    },
    {
      "cell_type": "code",
      "source": [
        "student = {'name':['bayo', 'tunde', 'bola', 'wunmi', 'jide', 'kola', 'shade', 'gideon', 'tolu', 'evelyn'],\n",
        "           'relationship':['single','single','married','single', 'married', 'married', 'married', 'single','single','single'],\n",
        "           'age':[20, 23, 23, 26, 30, 33, 28, 26, 27, 26],\n",
        "           'department':['microbiology', 'botany', 'biochemistry', 'botany', 'microbiology', 'botany', 'botany', 'biochemistry', 'zoology', 'zoology']}\n",
        "\n",
        "# 10 values in each of the square brackets"
      ],
      "metadata": {
        "id": "XxEsa7gNBphZ"
      },
      "execution_count": 2,
      "outputs": []
    },
    {
      "cell_type": "markdown",
      "source": [
        "### Add cgpa to the dictionary "
      ],
      "metadata": {
        "id": "HX23D_Sb9rRT"
      }
    },
    {
      "cell_type": "code",
      "source": [
        "student['cgpa'] = [3.92, 3.55, 2.60, 4.21, 2.79, 3.50, 4.12, 3.62, 2.33, 3.49] \n",
        "\n",
        "# 10 values for the students' cgpa"
      ],
      "metadata": {
        "id": "TOtLTr73Atj3"
      },
      "execution_count": 3,
      "outputs": []
    },
    {
      "cell_type": "markdown",
      "source": [
        "### Remove relationship status from the dictionary"
      ],
      "metadata": {
        "id": "MEWiJ5s3-vYN"
      }
    },
    {
      "cell_type": "code",
      "source": [
        "student.pop('relationship') \n",
        " # fill in the key  you want to remove"
      ],
      "metadata": {
        "id": "J8r6HT8oB4as",
        "outputId": "ae00c52e-f353-40cc-b3ed-3754ac241ae5",
        "colab": {
          "base_uri": "https://localhost:8080/"
        }
      },
      "execution_count": 4,
      "outputs": [
        {
          "output_type": "execute_result",
          "data": {
            "text/plain": [
              "['single',\n",
              " 'single',\n",
              " 'married',\n",
              " 'single',\n",
              " 'married',\n",
              " 'married',\n",
              " 'married',\n",
              " 'single',\n",
              " 'single',\n",
              " 'single']"
            ]
          },
          "metadata": {},
          "execution_count": 4
        }
      ]
    },
    {
      "cell_type": "markdown",
      "source": [
        "## Convert the dictionary to a dataframe(df)"
      ],
      "metadata": {
        "id": "SVxpIt3o-yTv"
      }
    },
    {
      "cell_type": "code",
      "source": [
        "df = pd.DataFrame(student)  \n",
        " # complete this"
      ],
      "metadata": {
        "id": "Zhu_W-axCPS1"
      },
      "execution_count": 5,
      "outputs": []
    },
    {
      "cell_type": "markdown",
      "source": [
        "## Add admission_date (year, month and day)and gender columns to the dataframe\n"
      ],
      "metadata": {
        "id": "TMnxb-nk-9Vy"
      }
    },
    {
      "cell_type": "code",
      "source": [
        "df['admission_date'] = ['2015-02-01 9:00','2015-02-01 9:30','2017-04-07 7:45','2016-01-07 8:10','2015-02-01 10:01','2014-01-03 10:00','2016-04-07 9:15','2017-01-07 12:00','2015-02-01 12:00','2017-04-07 9:05']\n",
        "#complete the code\n",
        "df['gender'] = ['m', 'm', 'f', 'f', 'm', 'm', 'f', 'm', 'f', 'f']\n"
      ],
      "metadata": {
        "id": "Xo3wLmlpCWYk"
      },
      "execution_count": 38,
      "outputs": []
    },
    {
      "cell_type": "markdown",
      "source": [
        "# Check the dataframe\n",
        "\n",
        "\n"
      ],
      "metadata": {
        "id": "wkqvFcAL_BHF"
      }
    },
    {
      "cell_type": "code",
      "source": [
        "df"
      ],
      "metadata": {
        "id": "Q8OluagoCmJk",
        "outputId": "ea3bdf02-7464-4cb1-a238-1c24629014cb",
        "colab": {
          "base_uri": "https://localhost:8080/",
          "height": 363
        }
      },
      "execution_count": 39,
      "outputs": [
        {
          "output_type": "execute_result",
          "data": {
            "text/plain": [
              "     name  age    department  cgpa    admission_date gender\n",
              "0    bayo   20  microbiology  3.92   2015-02-01 9:00      m\n",
              "1   tunde   23        botany  3.55   2015-02-01 9:30      m\n",
              "2    bola   23  biochemistry  2.60   2017-04-07 7:45      f\n",
              "3   wunmi   26        botany  4.21   2016-01-07 8:10      f\n",
              "4    jide   30  microbiology  2.79  2015-02-01 10:01      m\n",
              "5    kola   33        botany  3.50  2014-01-03 10:00      m\n",
              "6   shade   28        botany  4.12   2016-04-07 9:15      f\n",
              "7  gideon   26  biochemistry  3.62  2017-01-07 12:00      m\n",
              "8    tolu   27       zoology  2.33  2015-02-01 12:00      f\n",
              "9  evelyn   26       zoology  3.49   2017-04-07 9:05      f"
            ],
            "text/html": [
              "\n",
              "  <div id=\"df-c650f33a-d693-4647-9eda-34719ac995f8\">\n",
              "    <div class=\"colab-df-container\">\n",
              "      <div>\n",
              "<style scoped>\n",
              "    .dataframe tbody tr th:only-of-type {\n",
              "        vertical-align: middle;\n",
              "    }\n",
              "\n",
              "    .dataframe tbody tr th {\n",
              "        vertical-align: top;\n",
              "    }\n",
              "\n",
              "    .dataframe thead th {\n",
              "        text-align: right;\n",
              "    }\n",
              "</style>\n",
              "<table border=\"1\" class=\"dataframe\">\n",
              "  <thead>\n",
              "    <tr style=\"text-align: right;\">\n",
              "      <th></th>\n",
              "      <th>name</th>\n",
              "      <th>age</th>\n",
              "      <th>department</th>\n",
              "      <th>cgpa</th>\n",
              "      <th>admission_date</th>\n",
              "      <th>gender</th>\n",
              "    </tr>\n",
              "  </thead>\n",
              "  <tbody>\n",
              "    <tr>\n",
              "      <th>0</th>\n",
              "      <td>bayo</td>\n",
              "      <td>20</td>\n",
              "      <td>microbiology</td>\n",
              "      <td>3.92</td>\n",
              "      <td>2015-02-01 9:00</td>\n",
              "      <td>m</td>\n",
              "    </tr>\n",
              "    <tr>\n",
              "      <th>1</th>\n",
              "      <td>tunde</td>\n",
              "      <td>23</td>\n",
              "      <td>botany</td>\n",
              "      <td>3.55</td>\n",
              "      <td>2015-02-01 9:30</td>\n",
              "      <td>m</td>\n",
              "    </tr>\n",
              "    <tr>\n",
              "      <th>2</th>\n",
              "      <td>bola</td>\n",
              "      <td>23</td>\n",
              "      <td>biochemistry</td>\n",
              "      <td>2.60</td>\n",
              "      <td>2017-04-07 7:45</td>\n",
              "      <td>f</td>\n",
              "    </tr>\n",
              "    <tr>\n",
              "      <th>3</th>\n",
              "      <td>wunmi</td>\n",
              "      <td>26</td>\n",
              "      <td>botany</td>\n",
              "      <td>4.21</td>\n",
              "      <td>2016-01-07 8:10</td>\n",
              "      <td>f</td>\n",
              "    </tr>\n",
              "    <tr>\n",
              "      <th>4</th>\n",
              "      <td>jide</td>\n",
              "      <td>30</td>\n",
              "      <td>microbiology</td>\n",
              "      <td>2.79</td>\n",
              "      <td>2015-02-01 10:01</td>\n",
              "      <td>m</td>\n",
              "    </tr>\n",
              "    <tr>\n",
              "      <th>5</th>\n",
              "      <td>kola</td>\n",
              "      <td>33</td>\n",
              "      <td>botany</td>\n",
              "      <td>3.50</td>\n",
              "      <td>2014-01-03 10:00</td>\n",
              "      <td>m</td>\n",
              "    </tr>\n",
              "    <tr>\n",
              "      <th>6</th>\n",
              "      <td>shade</td>\n",
              "      <td>28</td>\n",
              "      <td>botany</td>\n",
              "      <td>4.12</td>\n",
              "      <td>2016-04-07 9:15</td>\n",
              "      <td>f</td>\n",
              "    </tr>\n",
              "    <tr>\n",
              "      <th>7</th>\n",
              "      <td>gideon</td>\n",
              "      <td>26</td>\n",
              "      <td>biochemistry</td>\n",
              "      <td>3.62</td>\n",
              "      <td>2017-01-07 12:00</td>\n",
              "      <td>m</td>\n",
              "    </tr>\n",
              "    <tr>\n",
              "      <th>8</th>\n",
              "      <td>tolu</td>\n",
              "      <td>27</td>\n",
              "      <td>zoology</td>\n",
              "      <td>2.33</td>\n",
              "      <td>2015-02-01 12:00</td>\n",
              "      <td>f</td>\n",
              "    </tr>\n",
              "    <tr>\n",
              "      <th>9</th>\n",
              "      <td>evelyn</td>\n",
              "      <td>26</td>\n",
              "      <td>zoology</td>\n",
              "      <td>3.49</td>\n",
              "      <td>2017-04-07 9:05</td>\n",
              "      <td>f</td>\n",
              "    </tr>\n",
              "  </tbody>\n",
              "</table>\n",
              "</div>\n",
              "      <button class=\"colab-df-convert\" onclick=\"convertToInteractive('df-c650f33a-d693-4647-9eda-34719ac995f8')\"\n",
              "              title=\"Convert this dataframe to an interactive table.\"\n",
              "              style=\"display:none;\">\n",
              "        \n",
              "  <svg xmlns=\"http://www.w3.org/2000/svg\" height=\"24px\"viewBox=\"0 0 24 24\"\n",
              "       width=\"24px\">\n",
              "    <path d=\"M0 0h24v24H0V0z\" fill=\"none\"/>\n",
              "    <path d=\"M18.56 5.44l.94 2.06.94-2.06 2.06-.94-2.06-.94-.94-2.06-.94 2.06-2.06.94zm-11 1L8.5 8.5l.94-2.06 2.06-.94-2.06-.94L8.5 2.5l-.94 2.06-2.06.94zm10 10l.94 2.06.94-2.06 2.06-.94-2.06-.94-.94-2.06-.94 2.06-2.06.94z\"/><path d=\"M17.41 7.96l-1.37-1.37c-.4-.4-.92-.59-1.43-.59-.52 0-1.04.2-1.43.59L10.3 9.45l-7.72 7.72c-.78.78-.78 2.05 0 2.83L4 21.41c.39.39.9.59 1.41.59.51 0 1.02-.2 1.41-.59l7.78-7.78 2.81-2.81c.8-.78.8-2.07 0-2.86zM5.41 20L4 18.59l7.72-7.72 1.47 1.35L5.41 20z\"/>\n",
              "  </svg>\n",
              "      </button>\n",
              "      \n",
              "  <style>\n",
              "    .colab-df-container {\n",
              "      display:flex;\n",
              "      flex-wrap:wrap;\n",
              "      gap: 12px;\n",
              "    }\n",
              "\n",
              "    .colab-df-convert {\n",
              "      background-color: #E8F0FE;\n",
              "      border: none;\n",
              "      border-radius: 50%;\n",
              "      cursor: pointer;\n",
              "      display: none;\n",
              "      fill: #1967D2;\n",
              "      height: 32px;\n",
              "      padding: 0 0 0 0;\n",
              "      width: 32px;\n",
              "    }\n",
              "\n",
              "    .colab-df-convert:hover {\n",
              "      background-color: #E2EBFA;\n",
              "      box-shadow: 0px 1px 2px rgba(60, 64, 67, 0.3), 0px 1px 3px 1px rgba(60, 64, 67, 0.15);\n",
              "      fill: #174EA6;\n",
              "    }\n",
              "\n",
              "    [theme=dark] .colab-df-convert {\n",
              "      background-color: #3B4455;\n",
              "      fill: #D2E3FC;\n",
              "    }\n",
              "\n",
              "    [theme=dark] .colab-df-convert:hover {\n",
              "      background-color: #434B5C;\n",
              "      box-shadow: 0px 1px 3px 1px rgba(0, 0, 0, 0.15);\n",
              "      filter: drop-shadow(0px 1px 2px rgba(0, 0, 0, 0.3));\n",
              "      fill: #FFFFFF;\n",
              "    }\n",
              "  </style>\n",
              "\n",
              "      <script>\n",
              "        const buttonEl =\n",
              "          document.querySelector('#df-c650f33a-d693-4647-9eda-34719ac995f8 button.colab-df-convert');\n",
              "        buttonEl.style.display =\n",
              "          google.colab.kernel.accessAllowed ? 'block' : 'none';\n",
              "\n",
              "        async function convertToInteractive(key) {\n",
              "          const element = document.querySelector('#df-c650f33a-d693-4647-9eda-34719ac995f8');\n",
              "          const dataTable =\n",
              "            await google.colab.kernel.invokeFunction('convertToInteractive',\n",
              "                                                     [key], {});\n",
              "          if (!dataTable) return;\n",
              "\n",
              "          const docLinkHtml = 'Like what you see? Visit the ' +\n",
              "            '<a target=\"_blank\" href=https://colab.research.google.com/notebooks/data_table.ipynb>data table notebook</a>'\n",
              "            + ' to learn more about interactive tables.';\n",
              "          element.innerHTML = '';\n",
              "          dataTable['output_type'] = 'display_data';\n",
              "          await google.colab.output.renderOutput(dataTable, element);\n",
              "          const docLink = document.createElement('div');\n",
              "          docLink.innerHTML = docLinkHtml;\n",
              "          element.appendChild(docLink);\n",
              "        }\n",
              "      </script>\n",
              "    </div>\n",
              "  </div>\n",
              "  "
            ]
          },
          "metadata": {},
          "execution_count": 39
        }
      ]
    },
    {
      "cell_type": "markdown",
      "source": [
        "### Create the same dataframe (df2) with all the columns (name,  age, department, admission_date and gender) from a list instead of a dictionary.\n"
      ],
      "metadata": {
        "id": "wiMjl8Dx_Fb7"
      }
    },
    {
      "cell_type": "code",
      "source": [
        "## Check the dataframe\n",
        "name=['bayo', 'tunde', 'bola', 'wunmi', 'jide', 'kola', 'shade', 'gideon', 'tolu', 'evelyn']\n",
        "age=[20, 23, 23, 26, 30, 33, 28, 26, 27, 26]\n",
        "department=['microbiology', 'botany', 'biochemistry', 'botany', 'microbiology', 'botany', 'botany', 'biochemistry', 'zoology', 'zoology']\n",
        "cgpa = [3.92, 3.55, 2.60, 4.21, 2.79, 3.50, 4.12, 3.62, 2.33, 3.49]\n",
        "admission_date = ['01-02-2015','01-02-2015','07-04-2017','07-01-2016','01-02-2015','03-10-2014','07-04-2016','07-01-2017','01-02-2015','07-04-2017']\n",
        "gender = ['m', 'm', 'f', 'f', 'm', 'm', 'f', 'm', 'f', 'f']\n",
        "\n",
        "df2 = pd.DataFrame({'Name': name, 'Age': age, 'Department': department, 'cgpa': cgpa, 'Admission_Date': admission_date, 'Gender':gender})\n",
        "df2"
      ],
      "metadata": {
        "id": "1mdRG0GVCubT",
        "outputId": "3fd2c463-f16b-42b2-b70a-efe7b026dcf2",
        "colab": {
          "base_uri": "https://localhost:8080/",
          "height": 363
        }
      },
      "execution_count": 8,
      "outputs": [
        {
          "output_type": "execute_result",
          "data": {
            "text/plain": [
              "     Name  Age    Department  cgpa Admission_Date Gender\n",
              "0    bayo   20  microbiology  3.92     01-02-2015      m\n",
              "1   tunde   23        botany  3.55     01-02-2015      m\n",
              "2    bola   23  biochemistry  2.60     07-04-2017      f\n",
              "3   wunmi   26        botany  4.21     07-01-2016      f\n",
              "4    jide   30  microbiology  2.79     01-02-2015      m\n",
              "5    kola   33        botany  3.50     03-10-2014      m\n",
              "6   shade   28        botany  4.12     07-04-2016      f\n",
              "7  gideon   26  biochemistry  3.62     07-01-2017      m\n",
              "8    tolu   27       zoology  2.33     01-02-2015      f\n",
              "9  evelyn   26       zoology  3.49     07-04-2017      f"
            ],
            "text/html": [
              "\n",
              "  <div id=\"df-b7c60737-ad96-4206-adb7-adc4c45fe250\">\n",
              "    <div class=\"colab-df-container\">\n",
              "      <div>\n",
              "<style scoped>\n",
              "    .dataframe tbody tr th:only-of-type {\n",
              "        vertical-align: middle;\n",
              "    }\n",
              "\n",
              "    .dataframe tbody tr th {\n",
              "        vertical-align: top;\n",
              "    }\n",
              "\n",
              "    .dataframe thead th {\n",
              "        text-align: right;\n",
              "    }\n",
              "</style>\n",
              "<table border=\"1\" class=\"dataframe\">\n",
              "  <thead>\n",
              "    <tr style=\"text-align: right;\">\n",
              "      <th></th>\n",
              "      <th>Name</th>\n",
              "      <th>Age</th>\n",
              "      <th>Department</th>\n",
              "      <th>cgpa</th>\n",
              "      <th>Admission_Date</th>\n",
              "      <th>Gender</th>\n",
              "    </tr>\n",
              "  </thead>\n",
              "  <tbody>\n",
              "    <tr>\n",
              "      <th>0</th>\n",
              "      <td>bayo</td>\n",
              "      <td>20</td>\n",
              "      <td>microbiology</td>\n",
              "      <td>3.92</td>\n",
              "      <td>01-02-2015</td>\n",
              "      <td>m</td>\n",
              "    </tr>\n",
              "    <tr>\n",
              "      <th>1</th>\n",
              "      <td>tunde</td>\n",
              "      <td>23</td>\n",
              "      <td>botany</td>\n",
              "      <td>3.55</td>\n",
              "      <td>01-02-2015</td>\n",
              "      <td>m</td>\n",
              "    </tr>\n",
              "    <tr>\n",
              "      <th>2</th>\n",
              "      <td>bola</td>\n",
              "      <td>23</td>\n",
              "      <td>biochemistry</td>\n",
              "      <td>2.60</td>\n",
              "      <td>07-04-2017</td>\n",
              "      <td>f</td>\n",
              "    </tr>\n",
              "    <tr>\n",
              "      <th>3</th>\n",
              "      <td>wunmi</td>\n",
              "      <td>26</td>\n",
              "      <td>botany</td>\n",
              "      <td>4.21</td>\n",
              "      <td>07-01-2016</td>\n",
              "      <td>f</td>\n",
              "    </tr>\n",
              "    <tr>\n",
              "      <th>4</th>\n",
              "      <td>jide</td>\n",
              "      <td>30</td>\n",
              "      <td>microbiology</td>\n",
              "      <td>2.79</td>\n",
              "      <td>01-02-2015</td>\n",
              "      <td>m</td>\n",
              "    </tr>\n",
              "    <tr>\n",
              "      <th>5</th>\n",
              "      <td>kola</td>\n",
              "      <td>33</td>\n",
              "      <td>botany</td>\n",
              "      <td>3.50</td>\n",
              "      <td>03-10-2014</td>\n",
              "      <td>m</td>\n",
              "    </tr>\n",
              "    <tr>\n",
              "      <th>6</th>\n",
              "      <td>shade</td>\n",
              "      <td>28</td>\n",
              "      <td>botany</td>\n",
              "      <td>4.12</td>\n",
              "      <td>07-04-2016</td>\n",
              "      <td>f</td>\n",
              "    </tr>\n",
              "    <tr>\n",
              "      <th>7</th>\n",
              "      <td>gideon</td>\n",
              "      <td>26</td>\n",
              "      <td>biochemistry</td>\n",
              "      <td>3.62</td>\n",
              "      <td>07-01-2017</td>\n",
              "      <td>m</td>\n",
              "    </tr>\n",
              "    <tr>\n",
              "      <th>8</th>\n",
              "      <td>tolu</td>\n",
              "      <td>27</td>\n",
              "      <td>zoology</td>\n",
              "      <td>2.33</td>\n",
              "      <td>01-02-2015</td>\n",
              "      <td>f</td>\n",
              "    </tr>\n",
              "    <tr>\n",
              "      <th>9</th>\n",
              "      <td>evelyn</td>\n",
              "      <td>26</td>\n",
              "      <td>zoology</td>\n",
              "      <td>3.49</td>\n",
              "      <td>07-04-2017</td>\n",
              "      <td>f</td>\n",
              "    </tr>\n",
              "  </tbody>\n",
              "</table>\n",
              "</div>\n",
              "      <button class=\"colab-df-convert\" onclick=\"convertToInteractive('df-b7c60737-ad96-4206-adb7-adc4c45fe250')\"\n",
              "              title=\"Convert this dataframe to an interactive table.\"\n",
              "              style=\"display:none;\">\n",
              "        \n",
              "  <svg xmlns=\"http://www.w3.org/2000/svg\" height=\"24px\"viewBox=\"0 0 24 24\"\n",
              "       width=\"24px\">\n",
              "    <path d=\"M0 0h24v24H0V0z\" fill=\"none\"/>\n",
              "    <path d=\"M18.56 5.44l.94 2.06.94-2.06 2.06-.94-2.06-.94-.94-2.06-.94 2.06-2.06.94zm-11 1L8.5 8.5l.94-2.06 2.06-.94-2.06-.94L8.5 2.5l-.94 2.06-2.06.94zm10 10l.94 2.06.94-2.06 2.06-.94-2.06-.94-.94-2.06-.94 2.06-2.06.94z\"/><path d=\"M17.41 7.96l-1.37-1.37c-.4-.4-.92-.59-1.43-.59-.52 0-1.04.2-1.43.59L10.3 9.45l-7.72 7.72c-.78.78-.78 2.05 0 2.83L4 21.41c.39.39.9.59 1.41.59.51 0 1.02-.2 1.41-.59l7.78-7.78 2.81-2.81c.8-.78.8-2.07 0-2.86zM5.41 20L4 18.59l7.72-7.72 1.47 1.35L5.41 20z\"/>\n",
              "  </svg>\n",
              "      </button>\n",
              "      \n",
              "  <style>\n",
              "    .colab-df-container {\n",
              "      display:flex;\n",
              "      flex-wrap:wrap;\n",
              "      gap: 12px;\n",
              "    }\n",
              "\n",
              "    .colab-df-convert {\n",
              "      background-color: #E8F0FE;\n",
              "      border: none;\n",
              "      border-radius: 50%;\n",
              "      cursor: pointer;\n",
              "      display: none;\n",
              "      fill: #1967D2;\n",
              "      height: 32px;\n",
              "      padding: 0 0 0 0;\n",
              "      width: 32px;\n",
              "    }\n",
              "\n",
              "    .colab-df-convert:hover {\n",
              "      background-color: #E2EBFA;\n",
              "      box-shadow: 0px 1px 2px rgba(60, 64, 67, 0.3), 0px 1px 3px 1px rgba(60, 64, 67, 0.15);\n",
              "      fill: #174EA6;\n",
              "    }\n",
              "\n",
              "    [theme=dark] .colab-df-convert {\n",
              "      background-color: #3B4455;\n",
              "      fill: #D2E3FC;\n",
              "    }\n",
              "\n",
              "    [theme=dark] .colab-df-convert:hover {\n",
              "      background-color: #434B5C;\n",
              "      box-shadow: 0px 1px 3px 1px rgba(0, 0, 0, 0.15);\n",
              "      filter: drop-shadow(0px 1px 2px rgba(0, 0, 0, 0.3));\n",
              "      fill: #FFFFFF;\n",
              "    }\n",
              "  </style>\n",
              "\n",
              "      <script>\n",
              "        const buttonEl =\n",
              "          document.querySelector('#df-b7c60737-ad96-4206-adb7-adc4c45fe250 button.colab-df-convert');\n",
              "        buttonEl.style.display =\n",
              "          google.colab.kernel.accessAllowed ? 'block' : 'none';\n",
              "\n",
              "        async function convertToInteractive(key) {\n",
              "          const element = document.querySelector('#df-b7c60737-ad96-4206-adb7-adc4c45fe250');\n",
              "          const dataTable =\n",
              "            await google.colab.kernel.invokeFunction('convertToInteractive',\n",
              "                                                     [key], {});\n",
              "          if (!dataTable) return;\n",
              "\n",
              "          const docLinkHtml = 'Like what you see? Visit the ' +\n",
              "            '<a target=\"_blank\" href=https://colab.research.google.com/notebooks/data_table.ipynb>data table notebook</a>'\n",
              "            + ' to learn more about interactive tables.';\n",
              "          element.innerHTML = '';\n",
              "          dataTable['output_type'] = 'display_data';\n",
              "          await google.colab.output.renderOutput(dataTable, element);\n",
              "          const docLink = document.createElement('div');\n",
              "          docLink.innerHTML = docLinkHtml;\n",
              "          element.appendChild(docLink);\n",
              "        }\n",
              "      </script>\n",
              "    </div>\n",
              "  </div>\n",
              "  "
            ]
          },
          "metadata": {},
          "execution_count": 8
        }
      ]
    },
    {
      "cell_type": "markdown",
      "source": [
        "## Work on the first dataframe(df) from here on"
      ],
      "metadata": {
        "id": "2mGijy6M_qdQ"
      }
    },
    {
      "cell_type": "markdown",
      "source": [
        "### Convert df admission_date column to datetime\n",
        "\n",
        "\n",
        " first import datetime as dt\n",
        "\n",
        "\n",
        "\n",
        "Extract the year, month and day as separate columns within the dataset"
      ],
      "metadata": {
        "id": "MrAgX-UM_HXT"
      }
    },
    {
      "cell_type": "code",
      "source": [
        "import datetime as dt\n",
        "\n",
        "df['admission_date']  = pd.to_datetime(df['admission_date'])\n",
        "df.dtypes\n",
        "\n",
        "  # convert the date to datetime object"
      ],
      "metadata": {
        "id": "iv23O91TC5jc",
        "outputId": "02f20c2b-9a75-4503-f2be-c35e5da2216e",
        "colab": {
          "base_uri": "https://localhost:8080/"
        }
      },
      "execution_count": 40,
      "outputs": [
        {
          "output_type": "execute_result",
          "data": {
            "text/plain": [
              "name                      object\n",
              "age                        int64\n",
              "department                object\n",
              "cgpa                     float64\n",
              "admission_date    datetime64[ns]\n",
              "gender                    object\n",
              "dtype: object"
            ]
          },
          "metadata": {},
          "execution_count": 40
        }
      ]
    },
    {
      "cell_type": "code",
      "source": [
        "# Complete the code and do the same for month and day\n",
        "df['year'] = df['admission_date'].dt.year\n",
        "df"
      ],
      "metadata": {
        "colab": {
          "base_uri": "https://localhost:8080/",
          "height": 363
        },
        "id": "Ks0SqlZrlcsB",
        "outputId": "01066a78-ae21-4bc6-bcd3-52dd02a77c6a"
      },
      "execution_count": 43,
      "outputs": [
        {
          "output_type": "execute_result",
          "data": {
            "text/plain": [
              "     name  age    department  cgpa      admission_date gender  year\n",
              "0    bayo   20  microbiology  3.92 2015-02-01 09:00:00      m  2015\n",
              "1   tunde   23        botany  3.55 2015-02-01 09:30:00      m  2015\n",
              "2    bola   23  biochemistry  2.60 2017-04-07 07:45:00      f  2017\n",
              "3   wunmi   26        botany  4.21 2016-01-07 08:10:00      f  2016\n",
              "4    jide   30  microbiology  2.79 2015-02-01 10:01:00      m  2015\n",
              "5    kola   33        botany  3.50 2014-01-03 10:00:00      m  2014\n",
              "6   shade   28        botany  4.12 2016-04-07 09:15:00      f  2016\n",
              "7  gideon   26  biochemistry  3.62 2017-01-07 12:00:00      m  2017\n",
              "8    tolu   27       zoology  2.33 2015-02-01 12:00:00      f  2015\n",
              "9  evelyn   26       zoology  3.49 2017-04-07 09:05:00      f  2017"
            ],
            "text/html": [
              "\n",
              "  <div id=\"df-1a718894-e23a-4ee7-8561-ae6b267a8ba5\">\n",
              "    <div class=\"colab-df-container\">\n",
              "      <div>\n",
              "<style scoped>\n",
              "    .dataframe tbody tr th:only-of-type {\n",
              "        vertical-align: middle;\n",
              "    }\n",
              "\n",
              "    .dataframe tbody tr th {\n",
              "        vertical-align: top;\n",
              "    }\n",
              "\n",
              "    .dataframe thead th {\n",
              "        text-align: right;\n",
              "    }\n",
              "</style>\n",
              "<table border=\"1\" class=\"dataframe\">\n",
              "  <thead>\n",
              "    <tr style=\"text-align: right;\">\n",
              "      <th></th>\n",
              "      <th>name</th>\n",
              "      <th>age</th>\n",
              "      <th>department</th>\n",
              "      <th>cgpa</th>\n",
              "      <th>admission_date</th>\n",
              "      <th>gender</th>\n",
              "      <th>year</th>\n",
              "    </tr>\n",
              "  </thead>\n",
              "  <tbody>\n",
              "    <tr>\n",
              "      <th>0</th>\n",
              "      <td>bayo</td>\n",
              "      <td>20</td>\n",
              "      <td>microbiology</td>\n",
              "      <td>3.92</td>\n",
              "      <td>2015-02-01 09:00:00</td>\n",
              "      <td>m</td>\n",
              "      <td>2015</td>\n",
              "    </tr>\n",
              "    <tr>\n",
              "      <th>1</th>\n",
              "      <td>tunde</td>\n",
              "      <td>23</td>\n",
              "      <td>botany</td>\n",
              "      <td>3.55</td>\n",
              "      <td>2015-02-01 09:30:00</td>\n",
              "      <td>m</td>\n",
              "      <td>2015</td>\n",
              "    </tr>\n",
              "    <tr>\n",
              "      <th>2</th>\n",
              "      <td>bola</td>\n",
              "      <td>23</td>\n",
              "      <td>biochemistry</td>\n",
              "      <td>2.60</td>\n",
              "      <td>2017-04-07 07:45:00</td>\n",
              "      <td>f</td>\n",
              "      <td>2017</td>\n",
              "    </tr>\n",
              "    <tr>\n",
              "      <th>3</th>\n",
              "      <td>wunmi</td>\n",
              "      <td>26</td>\n",
              "      <td>botany</td>\n",
              "      <td>4.21</td>\n",
              "      <td>2016-01-07 08:10:00</td>\n",
              "      <td>f</td>\n",
              "      <td>2016</td>\n",
              "    </tr>\n",
              "    <tr>\n",
              "      <th>4</th>\n",
              "      <td>jide</td>\n",
              "      <td>30</td>\n",
              "      <td>microbiology</td>\n",
              "      <td>2.79</td>\n",
              "      <td>2015-02-01 10:01:00</td>\n",
              "      <td>m</td>\n",
              "      <td>2015</td>\n",
              "    </tr>\n",
              "    <tr>\n",
              "      <th>5</th>\n",
              "      <td>kola</td>\n",
              "      <td>33</td>\n",
              "      <td>botany</td>\n",
              "      <td>3.50</td>\n",
              "      <td>2014-01-03 10:00:00</td>\n",
              "      <td>m</td>\n",
              "      <td>2014</td>\n",
              "    </tr>\n",
              "    <tr>\n",
              "      <th>6</th>\n",
              "      <td>shade</td>\n",
              "      <td>28</td>\n",
              "      <td>botany</td>\n",
              "      <td>4.12</td>\n",
              "      <td>2016-04-07 09:15:00</td>\n",
              "      <td>f</td>\n",
              "      <td>2016</td>\n",
              "    </tr>\n",
              "    <tr>\n",
              "      <th>7</th>\n",
              "      <td>gideon</td>\n",
              "      <td>26</td>\n",
              "      <td>biochemistry</td>\n",
              "      <td>3.62</td>\n",
              "      <td>2017-01-07 12:00:00</td>\n",
              "      <td>m</td>\n",
              "      <td>2017</td>\n",
              "    </tr>\n",
              "    <tr>\n",
              "      <th>8</th>\n",
              "      <td>tolu</td>\n",
              "      <td>27</td>\n",
              "      <td>zoology</td>\n",
              "      <td>2.33</td>\n",
              "      <td>2015-02-01 12:00:00</td>\n",
              "      <td>f</td>\n",
              "      <td>2015</td>\n",
              "    </tr>\n",
              "    <tr>\n",
              "      <th>9</th>\n",
              "      <td>evelyn</td>\n",
              "      <td>26</td>\n",
              "      <td>zoology</td>\n",
              "      <td>3.49</td>\n",
              "      <td>2017-04-07 09:05:00</td>\n",
              "      <td>f</td>\n",
              "      <td>2017</td>\n",
              "    </tr>\n",
              "  </tbody>\n",
              "</table>\n",
              "</div>\n",
              "      <button class=\"colab-df-convert\" onclick=\"convertToInteractive('df-1a718894-e23a-4ee7-8561-ae6b267a8ba5')\"\n",
              "              title=\"Convert this dataframe to an interactive table.\"\n",
              "              style=\"display:none;\">\n",
              "        \n",
              "  <svg xmlns=\"http://www.w3.org/2000/svg\" height=\"24px\"viewBox=\"0 0 24 24\"\n",
              "       width=\"24px\">\n",
              "    <path d=\"M0 0h24v24H0V0z\" fill=\"none\"/>\n",
              "    <path d=\"M18.56 5.44l.94 2.06.94-2.06 2.06-.94-2.06-.94-.94-2.06-.94 2.06-2.06.94zm-11 1L8.5 8.5l.94-2.06 2.06-.94-2.06-.94L8.5 2.5l-.94 2.06-2.06.94zm10 10l.94 2.06.94-2.06 2.06-.94-2.06-.94-.94-2.06-.94 2.06-2.06.94z\"/><path d=\"M17.41 7.96l-1.37-1.37c-.4-.4-.92-.59-1.43-.59-.52 0-1.04.2-1.43.59L10.3 9.45l-7.72 7.72c-.78.78-.78 2.05 0 2.83L4 21.41c.39.39.9.59 1.41.59.51 0 1.02-.2 1.41-.59l7.78-7.78 2.81-2.81c.8-.78.8-2.07 0-2.86zM5.41 20L4 18.59l7.72-7.72 1.47 1.35L5.41 20z\"/>\n",
              "  </svg>\n",
              "      </button>\n",
              "      \n",
              "  <style>\n",
              "    .colab-df-container {\n",
              "      display:flex;\n",
              "      flex-wrap:wrap;\n",
              "      gap: 12px;\n",
              "    }\n",
              "\n",
              "    .colab-df-convert {\n",
              "      background-color: #E8F0FE;\n",
              "      border: none;\n",
              "      border-radius: 50%;\n",
              "      cursor: pointer;\n",
              "      display: none;\n",
              "      fill: #1967D2;\n",
              "      height: 32px;\n",
              "      padding: 0 0 0 0;\n",
              "      width: 32px;\n",
              "    }\n",
              "\n",
              "    .colab-df-convert:hover {\n",
              "      background-color: #E2EBFA;\n",
              "      box-shadow: 0px 1px 2px rgba(60, 64, 67, 0.3), 0px 1px 3px 1px rgba(60, 64, 67, 0.15);\n",
              "      fill: #174EA6;\n",
              "    }\n",
              "\n",
              "    [theme=dark] .colab-df-convert {\n",
              "      background-color: #3B4455;\n",
              "      fill: #D2E3FC;\n",
              "    }\n",
              "\n",
              "    [theme=dark] .colab-df-convert:hover {\n",
              "      background-color: #434B5C;\n",
              "      box-shadow: 0px 1px 3px 1px rgba(0, 0, 0, 0.15);\n",
              "      filter: drop-shadow(0px 1px 2px rgba(0, 0, 0, 0.3));\n",
              "      fill: #FFFFFF;\n",
              "    }\n",
              "  </style>\n",
              "\n",
              "      <script>\n",
              "        const buttonEl =\n",
              "          document.querySelector('#df-1a718894-e23a-4ee7-8561-ae6b267a8ba5 button.colab-df-convert');\n",
              "        buttonEl.style.display =\n",
              "          google.colab.kernel.accessAllowed ? 'block' : 'none';\n",
              "\n",
              "        async function convertToInteractive(key) {\n",
              "          const element = document.querySelector('#df-1a718894-e23a-4ee7-8561-ae6b267a8ba5');\n",
              "          const dataTable =\n",
              "            await google.colab.kernel.invokeFunction('convertToInteractive',\n",
              "                                                     [key], {});\n",
              "          if (!dataTable) return;\n",
              "\n",
              "          const docLinkHtml = 'Like what you see? Visit the ' +\n",
              "            '<a target=\"_blank\" href=https://colab.research.google.com/notebooks/data_table.ipynb>data table notebook</a>'\n",
              "            + ' to learn more about interactive tables.';\n",
              "          element.innerHTML = '';\n",
              "          dataTable['output_type'] = 'display_data';\n",
              "          await google.colab.output.renderOutput(dataTable, element);\n",
              "          const docLink = document.createElement('div');\n",
              "          docLink.innerHTML = docLinkHtml;\n",
              "          element.appendChild(docLink);\n",
              "        }\n",
              "      </script>\n",
              "    </div>\n",
              "  </div>\n",
              "  "
            ]
          },
          "metadata": {},
          "execution_count": 43
        }
      ]
    },
    {
      "cell_type": "code",
      "source": [
        "df['month'] = df['admission_date'].dt.month\n",
        "df"
      ],
      "metadata": {
        "colab": {
          "base_uri": "https://localhost:8080/",
          "height": 363
        },
        "id": "IqZHfI93n0vd",
        "outputId": "a9fa3779-cff6-4719-f844-9f35da1ceb1d"
      },
      "execution_count": 44,
      "outputs": [
        {
          "output_type": "execute_result",
          "data": {
            "text/plain": [
              "     name  age    department  cgpa      admission_date gender  year  month\n",
              "0    bayo   20  microbiology  3.92 2015-02-01 09:00:00      m  2015      2\n",
              "1   tunde   23        botany  3.55 2015-02-01 09:30:00      m  2015      2\n",
              "2    bola   23  biochemistry  2.60 2017-04-07 07:45:00      f  2017      4\n",
              "3   wunmi   26        botany  4.21 2016-01-07 08:10:00      f  2016      1\n",
              "4    jide   30  microbiology  2.79 2015-02-01 10:01:00      m  2015      2\n",
              "5    kola   33        botany  3.50 2014-01-03 10:00:00      m  2014      1\n",
              "6   shade   28        botany  4.12 2016-04-07 09:15:00      f  2016      4\n",
              "7  gideon   26  biochemistry  3.62 2017-01-07 12:00:00      m  2017      1\n",
              "8    tolu   27       zoology  2.33 2015-02-01 12:00:00      f  2015      2\n",
              "9  evelyn   26       zoology  3.49 2017-04-07 09:05:00      f  2017      4"
            ],
            "text/html": [
              "\n",
              "  <div id=\"df-9001c29e-9801-432c-8d3e-02eabc561cdd\">\n",
              "    <div class=\"colab-df-container\">\n",
              "      <div>\n",
              "<style scoped>\n",
              "    .dataframe tbody tr th:only-of-type {\n",
              "        vertical-align: middle;\n",
              "    }\n",
              "\n",
              "    .dataframe tbody tr th {\n",
              "        vertical-align: top;\n",
              "    }\n",
              "\n",
              "    .dataframe thead th {\n",
              "        text-align: right;\n",
              "    }\n",
              "</style>\n",
              "<table border=\"1\" class=\"dataframe\">\n",
              "  <thead>\n",
              "    <tr style=\"text-align: right;\">\n",
              "      <th></th>\n",
              "      <th>name</th>\n",
              "      <th>age</th>\n",
              "      <th>department</th>\n",
              "      <th>cgpa</th>\n",
              "      <th>admission_date</th>\n",
              "      <th>gender</th>\n",
              "      <th>year</th>\n",
              "      <th>month</th>\n",
              "    </tr>\n",
              "  </thead>\n",
              "  <tbody>\n",
              "    <tr>\n",
              "      <th>0</th>\n",
              "      <td>bayo</td>\n",
              "      <td>20</td>\n",
              "      <td>microbiology</td>\n",
              "      <td>3.92</td>\n",
              "      <td>2015-02-01 09:00:00</td>\n",
              "      <td>m</td>\n",
              "      <td>2015</td>\n",
              "      <td>2</td>\n",
              "    </tr>\n",
              "    <tr>\n",
              "      <th>1</th>\n",
              "      <td>tunde</td>\n",
              "      <td>23</td>\n",
              "      <td>botany</td>\n",
              "      <td>3.55</td>\n",
              "      <td>2015-02-01 09:30:00</td>\n",
              "      <td>m</td>\n",
              "      <td>2015</td>\n",
              "      <td>2</td>\n",
              "    </tr>\n",
              "    <tr>\n",
              "      <th>2</th>\n",
              "      <td>bola</td>\n",
              "      <td>23</td>\n",
              "      <td>biochemistry</td>\n",
              "      <td>2.60</td>\n",
              "      <td>2017-04-07 07:45:00</td>\n",
              "      <td>f</td>\n",
              "      <td>2017</td>\n",
              "      <td>4</td>\n",
              "    </tr>\n",
              "    <tr>\n",
              "      <th>3</th>\n",
              "      <td>wunmi</td>\n",
              "      <td>26</td>\n",
              "      <td>botany</td>\n",
              "      <td>4.21</td>\n",
              "      <td>2016-01-07 08:10:00</td>\n",
              "      <td>f</td>\n",
              "      <td>2016</td>\n",
              "      <td>1</td>\n",
              "    </tr>\n",
              "    <tr>\n",
              "      <th>4</th>\n",
              "      <td>jide</td>\n",
              "      <td>30</td>\n",
              "      <td>microbiology</td>\n",
              "      <td>2.79</td>\n",
              "      <td>2015-02-01 10:01:00</td>\n",
              "      <td>m</td>\n",
              "      <td>2015</td>\n",
              "      <td>2</td>\n",
              "    </tr>\n",
              "    <tr>\n",
              "      <th>5</th>\n",
              "      <td>kola</td>\n",
              "      <td>33</td>\n",
              "      <td>botany</td>\n",
              "      <td>3.50</td>\n",
              "      <td>2014-01-03 10:00:00</td>\n",
              "      <td>m</td>\n",
              "      <td>2014</td>\n",
              "      <td>1</td>\n",
              "    </tr>\n",
              "    <tr>\n",
              "      <th>6</th>\n",
              "      <td>shade</td>\n",
              "      <td>28</td>\n",
              "      <td>botany</td>\n",
              "      <td>4.12</td>\n",
              "      <td>2016-04-07 09:15:00</td>\n",
              "      <td>f</td>\n",
              "      <td>2016</td>\n",
              "      <td>4</td>\n",
              "    </tr>\n",
              "    <tr>\n",
              "      <th>7</th>\n",
              "      <td>gideon</td>\n",
              "      <td>26</td>\n",
              "      <td>biochemistry</td>\n",
              "      <td>3.62</td>\n",
              "      <td>2017-01-07 12:00:00</td>\n",
              "      <td>m</td>\n",
              "      <td>2017</td>\n",
              "      <td>1</td>\n",
              "    </tr>\n",
              "    <tr>\n",
              "      <th>8</th>\n",
              "      <td>tolu</td>\n",
              "      <td>27</td>\n",
              "      <td>zoology</td>\n",
              "      <td>2.33</td>\n",
              "      <td>2015-02-01 12:00:00</td>\n",
              "      <td>f</td>\n",
              "      <td>2015</td>\n",
              "      <td>2</td>\n",
              "    </tr>\n",
              "    <tr>\n",
              "      <th>9</th>\n",
              "      <td>evelyn</td>\n",
              "      <td>26</td>\n",
              "      <td>zoology</td>\n",
              "      <td>3.49</td>\n",
              "      <td>2017-04-07 09:05:00</td>\n",
              "      <td>f</td>\n",
              "      <td>2017</td>\n",
              "      <td>4</td>\n",
              "    </tr>\n",
              "  </tbody>\n",
              "</table>\n",
              "</div>\n",
              "      <button class=\"colab-df-convert\" onclick=\"convertToInteractive('df-9001c29e-9801-432c-8d3e-02eabc561cdd')\"\n",
              "              title=\"Convert this dataframe to an interactive table.\"\n",
              "              style=\"display:none;\">\n",
              "        \n",
              "  <svg xmlns=\"http://www.w3.org/2000/svg\" height=\"24px\"viewBox=\"0 0 24 24\"\n",
              "       width=\"24px\">\n",
              "    <path d=\"M0 0h24v24H0V0z\" fill=\"none\"/>\n",
              "    <path d=\"M18.56 5.44l.94 2.06.94-2.06 2.06-.94-2.06-.94-.94-2.06-.94 2.06-2.06.94zm-11 1L8.5 8.5l.94-2.06 2.06-.94-2.06-.94L8.5 2.5l-.94 2.06-2.06.94zm10 10l.94 2.06.94-2.06 2.06-.94-2.06-.94-.94-2.06-.94 2.06-2.06.94z\"/><path d=\"M17.41 7.96l-1.37-1.37c-.4-.4-.92-.59-1.43-.59-.52 0-1.04.2-1.43.59L10.3 9.45l-7.72 7.72c-.78.78-.78 2.05 0 2.83L4 21.41c.39.39.9.59 1.41.59.51 0 1.02-.2 1.41-.59l7.78-7.78 2.81-2.81c.8-.78.8-2.07 0-2.86zM5.41 20L4 18.59l7.72-7.72 1.47 1.35L5.41 20z\"/>\n",
              "  </svg>\n",
              "      </button>\n",
              "      \n",
              "  <style>\n",
              "    .colab-df-container {\n",
              "      display:flex;\n",
              "      flex-wrap:wrap;\n",
              "      gap: 12px;\n",
              "    }\n",
              "\n",
              "    .colab-df-convert {\n",
              "      background-color: #E8F0FE;\n",
              "      border: none;\n",
              "      border-radius: 50%;\n",
              "      cursor: pointer;\n",
              "      display: none;\n",
              "      fill: #1967D2;\n",
              "      height: 32px;\n",
              "      padding: 0 0 0 0;\n",
              "      width: 32px;\n",
              "    }\n",
              "\n",
              "    .colab-df-convert:hover {\n",
              "      background-color: #E2EBFA;\n",
              "      box-shadow: 0px 1px 2px rgba(60, 64, 67, 0.3), 0px 1px 3px 1px rgba(60, 64, 67, 0.15);\n",
              "      fill: #174EA6;\n",
              "    }\n",
              "\n",
              "    [theme=dark] .colab-df-convert {\n",
              "      background-color: #3B4455;\n",
              "      fill: #D2E3FC;\n",
              "    }\n",
              "\n",
              "    [theme=dark] .colab-df-convert:hover {\n",
              "      background-color: #434B5C;\n",
              "      box-shadow: 0px 1px 3px 1px rgba(0, 0, 0, 0.15);\n",
              "      filter: drop-shadow(0px 1px 2px rgba(0, 0, 0, 0.3));\n",
              "      fill: #FFFFFF;\n",
              "    }\n",
              "  </style>\n",
              "\n",
              "      <script>\n",
              "        const buttonEl =\n",
              "          document.querySelector('#df-9001c29e-9801-432c-8d3e-02eabc561cdd button.colab-df-convert');\n",
              "        buttonEl.style.display =\n",
              "          google.colab.kernel.accessAllowed ? 'block' : 'none';\n",
              "\n",
              "        async function convertToInteractive(key) {\n",
              "          const element = document.querySelector('#df-9001c29e-9801-432c-8d3e-02eabc561cdd');\n",
              "          const dataTable =\n",
              "            await google.colab.kernel.invokeFunction('convertToInteractive',\n",
              "                                                     [key], {});\n",
              "          if (!dataTable) return;\n",
              "\n",
              "          const docLinkHtml = 'Like what you see? Visit the ' +\n",
              "            '<a target=\"_blank\" href=https://colab.research.google.com/notebooks/data_table.ipynb>data table notebook</a>'\n",
              "            + ' to learn more about interactive tables.';\n",
              "          element.innerHTML = '';\n",
              "          dataTable['output_type'] = 'display_data';\n",
              "          await google.colab.output.renderOutput(dataTable, element);\n",
              "          const docLink = document.createElement('div');\n",
              "          docLink.innerHTML = docLinkHtml;\n",
              "          element.appendChild(docLink);\n",
              "        }\n",
              "      </script>\n",
              "    </div>\n",
              "  </div>\n",
              "  "
            ]
          },
          "metadata": {},
          "execution_count": 44
        }
      ]
    },
    {
      "cell_type": "code",
      "source": [
        "df['day'] = df['admission_date'].dt.day\n",
        "df"
      ],
      "metadata": {
        "colab": {
          "base_uri": "https://localhost:8080/",
          "height": 363
        },
        "id": "IkmpaFzzn0aO",
        "outputId": "16056b60-d9c8-48b0-c3b6-5467fde118c5"
      },
      "execution_count": 45,
      "outputs": [
        {
          "output_type": "execute_result",
          "data": {
            "text/plain": [
              "     name  age    department  cgpa      admission_date gender  year  month  \\\n",
              "0    bayo   20  microbiology  3.92 2015-02-01 09:00:00      m  2015      2   \n",
              "1   tunde   23        botany  3.55 2015-02-01 09:30:00      m  2015      2   \n",
              "2    bola   23  biochemistry  2.60 2017-04-07 07:45:00      f  2017      4   \n",
              "3   wunmi   26        botany  4.21 2016-01-07 08:10:00      f  2016      1   \n",
              "4    jide   30  microbiology  2.79 2015-02-01 10:01:00      m  2015      2   \n",
              "5    kola   33        botany  3.50 2014-01-03 10:00:00      m  2014      1   \n",
              "6   shade   28        botany  4.12 2016-04-07 09:15:00      f  2016      4   \n",
              "7  gideon   26  biochemistry  3.62 2017-01-07 12:00:00      m  2017      1   \n",
              "8    tolu   27       zoology  2.33 2015-02-01 12:00:00      f  2015      2   \n",
              "9  evelyn   26       zoology  3.49 2017-04-07 09:05:00      f  2017      4   \n",
              "\n",
              "   day  \n",
              "0    1  \n",
              "1    1  \n",
              "2    7  \n",
              "3    7  \n",
              "4    1  \n",
              "5    3  \n",
              "6    7  \n",
              "7    7  \n",
              "8    1  \n",
              "9    7  "
            ],
            "text/html": [
              "\n",
              "  <div id=\"df-6ac99112-6682-4afb-8a11-85456bfc5fef\">\n",
              "    <div class=\"colab-df-container\">\n",
              "      <div>\n",
              "<style scoped>\n",
              "    .dataframe tbody tr th:only-of-type {\n",
              "        vertical-align: middle;\n",
              "    }\n",
              "\n",
              "    .dataframe tbody tr th {\n",
              "        vertical-align: top;\n",
              "    }\n",
              "\n",
              "    .dataframe thead th {\n",
              "        text-align: right;\n",
              "    }\n",
              "</style>\n",
              "<table border=\"1\" class=\"dataframe\">\n",
              "  <thead>\n",
              "    <tr style=\"text-align: right;\">\n",
              "      <th></th>\n",
              "      <th>name</th>\n",
              "      <th>age</th>\n",
              "      <th>department</th>\n",
              "      <th>cgpa</th>\n",
              "      <th>admission_date</th>\n",
              "      <th>gender</th>\n",
              "      <th>year</th>\n",
              "      <th>month</th>\n",
              "      <th>day</th>\n",
              "    </tr>\n",
              "  </thead>\n",
              "  <tbody>\n",
              "    <tr>\n",
              "      <th>0</th>\n",
              "      <td>bayo</td>\n",
              "      <td>20</td>\n",
              "      <td>microbiology</td>\n",
              "      <td>3.92</td>\n",
              "      <td>2015-02-01 09:00:00</td>\n",
              "      <td>m</td>\n",
              "      <td>2015</td>\n",
              "      <td>2</td>\n",
              "      <td>1</td>\n",
              "    </tr>\n",
              "    <tr>\n",
              "      <th>1</th>\n",
              "      <td>tunde</td>\n",
              "      <td>23</td>\n",
              "      <td>botany</td>\n",
              "      <td>3.55</td>\n",
              "      <td>2015-02-01 09:30:00</td>\n",
              "      <td>m</td>\n",
              "      <td>2015</td>\n",
              "      <td>2</td>\n",
              "      <td>1</td>\n",
              "    </tr>\n",
              "    <tr>\n",
              "      <th>2</th>\n",
              "      <td>bola</td>\n",
              "      <td>23</td>\n",
              "      <td>biochemistry</td>\n",
              "      <td>2.60</td>\n",
              "      <td>2017-04-07 07:45:00</td>\n",
              "      <td>f</td>\n",
              "      <td>2017</td>\n",
              "      <td>4</td>\n",
              "      <td>7</td>\n",
              "    </tr>\n",
              "    <tr>\n",
              "      <th>3</th>\n",
              "      <td>wunmi</td>\n",
              "      <td>26</td>\n",
              "      <td>botany</td>\n",
              "      <td>4.21</td>\n",
              "      <td>2016-01-07 08:10:00</td>\n",
              "      <td>f</td>\n",
              "      <td>2016</td>\n",
              "      <td>1</td>\n",
              "      <td>7</td>\n",
              "    </tr>\n",
              "    <tr>\n",
              "      <th>4</th>\n",
              "      <td>jide</td>\n",
              "      <td>30</td>\n",
              "      <td>microbiology</td>\n",
              "      <td>2.79</td>\n",
              "      <td>2015-02-01 10:01:00</td>\n",
              "      <td>m</td>\n",
              "      <td>2015</td>\n",
              "      <td>2</td>\n",
              "      <td>1</td>\n",
              "    </tr>\n",
              "    <tr>\n",
              "      <th>5</th>\n",
              "      <td>kola</td>\n",
              "      <td>33</td>\n",
              "      <td>botany</td>\n",
              "      <td>3.50</td>\n",
              "      <td>2014-01-03 10:00:00</td>\n",
              "      <td>m</td>\n",
              "      <td>2014</td>\n",
              "      <td>1</td>\n",
              "      <td>3</td>\n",
              "    </tr>\n",
              "    <tr>\n",
              "      <th>6</th>\n",
              "      <td>shade</td>\n",
              "      <td>28</td>\n",
              "      <td>botany</td>\n",
              "      <td>4.12</td>\n",
              "      <td>2016-04-07 09:15:00</td>\n",
              "      <td>f</td>\n",
              "      <td>2016</td>\n",
              "      <td>4</td>\n",
              "      <td>7</td>\n",
              "    </tr>\n",
              "    <tr>\n",
              "      <th>7</th>\n",
              "      <td>gideon</td>\n",
              "      <td>26</td>\n",
              "      <td>biochemistry</td>\n",
              "      <td>3.62</td>\n",
              "      <td>2017-01-07 12:00:00</td>\n",
              "      <td>m</td>\n",
              "      <td>2017</td>\n",
              "      <td>1</td>\n",
              "      <td>7</td>\n",
              "    </tr>\n",
              "    <tr>\n",
              "      <th>8</th>\n",
              "      <td>tolu</td>\n",
              "      <td>27</td>\n",
              "      <td>zoology</td>\n",
              "      <td>2.33</td>\n",
              "      <td>2015-02-01 12:00:00</td>\n",
              "      <td>f</td>\n",
              "      <td>2015</td>\n",
              "      <td>2</td>\n",
              "      <td>1</td>\n",
              "    </tr>\n",
              "    <tr>\n",
              "      <th>9</th>\n",
              "      <td>evelyn</td>\n",
              "      <td>26</td>\n",
              "      <td>zoology</td>\n",
              "      <td>3.49</td>\n",
              "      <td>2017-04-07 09:05:00</td>\n",
              "      <td>f</td>\n",
              "      <td>2017</td>\n",
              "      <td>4</td>\n",
              "      <td>7</td>\n",
              "    </tr>\n",
              "  </tbody>\n",
              "</table>\n",
              "</div>\n",
              "      <button class=\"colab-df-convert\" onclick=\"convertToInteractive('df-6ac99112-6682-4afb-8a11-85456bfc5fef')\"\n",
              "              title=\"Convert this dataframe to an interactive table.\"\n",
              "              style=\"display:none;\">\n",
              "        \n",
              "  <svg xmlns=\"http://www.w3.org/2000/svg\" height=\"24px\"viewBox=\"0 0 24 24\"\n",
              "       width=\"24px\">\n",
              "    <path d=\"M0 0h24v24H0V0z\" fill=\"none\"/>\n",
              "    <path d=\"M18.56 5.44l.94 2.06.94-2.06 2.06-.94-2.06-.94-.94-2.06-.94 2.06-2.06.94zm-11 1L8.5 8.5l.94-2.06 2.06-.94-2.06-.94L8.5 2.5l-.94 2.06-2.06.94zm10 10l.94 2.06.94-2.06 2.06-.94-2.06-.94-.94-2.06-.94 2.06-2.06.94z\"/><path d=\"M17.41 7.96l-1.37-1.37c-.4-.4-.92-.59-1.43-.59-.52 0-1.04.2-1.43.59L10.3 9.45l-7.72 7.72c-.78.78-.78 2.05 0 2.83L4 21.41c.39.39.9.59 1.41.59.51 0 1.02-.2 1.41-.59l7.78-7.78 2.81-2.81c.8-.78.8-2.07 0-2.86zM5.41 20L4 18.59l7.72-7.72 1.47 1.35L5.41 20z\"/>\n",
              "  </svg>\n",
              "      </button>\n",
              "      \n",
              "  <style>\n",
              "    .colab-df-container {\n",
              "      display:flex;\n",
              "      flex-wrap:wrap;\n",
              "      gap: 12px;\n",
              "    }\n",
              "\n",
              "    .colab-df-convert {\n",
              "      background-color: #E8F0FE;\n",
              "      border: none;\n",
              "      border-radius: 50%;\n",
              "      cursor: pointer;\n",
              "      display: none;\n",
              "      fill: #1967D2;\n",
              "      height: 32px;\n",
              "      padding: 0 0 0 0;\n",
              "      width: 32px;\n",
              "    }\n",
              "\n",
              "    .colab-df-convert:hover {\n",
              "      background-color: #E2EBFA;\n",
              "      box-shadow: 0px 1px 2px rgba(60, 64, 67, 0.3), 0px 1px 3px 1px rgba(60, 64, 67, 0.15);\n",
              "      fill: #174EA6;\n",
              "    }\n",
              "\n",
              "    [theme=dark] .colab-df-convert {\n",
              "      background-color: #3B4455;\n",
              "      fill: #D2E3FC;\n",
              "    }\n",
              "\n",
              "    [theme=dark] .colab-df-convert:hover {\n",
              "      background-color: #434B5C;\n",
              "      box-shadow: 0px 1px 3px 1px rgba(0, 0, 0, 0.15);\n",
              "      filter: drop-shadow(0px 1px 2px rgba(0, 0, 0, 0.3));\n",
              "      fill: #FFFFFF;\n",
              "    }\n",
              "  </style>\n",
              "\n",
              "      <script>\n",
              "        const buttonEl =\n",
              "          document.querySelector('#df-6ac99112-6682-4afb-8a11-85456bfc5fef button.colab-df-convert');\n",
              "        buttonEl.style.display =\n",
              "          google.colab.kernel.accessAllowed ? 'block' : 'none';\n",
              "\n",
              "        async function convertToInteractive(key) {\n",
              "          const element = document.querySelector('#df-6ac99112-6682-4afb-8a11-85456bfc5fef');\n",
              "          const dataTable =\n",
              "            await google.colab.kernel.invokeFunction('convertToInteractive',\n",
              "                                                     [key], {});\n",
              "          if (!dataTable) return;\n",
              "\n",
              "          const docLinkHtml = 'Like what you see? Visit the ' +\n",
              "            '<a target=\"_blank\" href=https://colab.research.google.com/notebooks/data_table.ipynb>data table notebook</a>'\n",
              "            + ' to learn more about interactive tables.';\n",
              "          element.innerHTML = '';\n",
              "          dataTable['output_type'] = 'display_data';\n",
              "          await google.colab.output.renderOutput(dataTable, element);\n",
              "          const docLink = document.createElement('div');\n",
              "          docLink.innerHTML = docLinkHtml;\n",
              "          element.appendChild(docLink);\n",
              "        }\n",
              "      </script>\n",
              "    </div>\n",
              "  </div>\n",
              "  "
            ]
          },
          "metadata": {},
          "execution_count": 45
        }
      ]
    },
    {
      "cell_type": "code",
      "source": [
        "# Check for data types of all columns\n",
        "df.dtypes\n"
      ],
      "metadata": {
        "id": "r-yzmTL9Drp8",
        "colab": {
          "base_uri": "https://localhost:8080/"
        },
        "outputId": "b8da4978-d496-4bd4-c750-cfd202dafed2"
      },
      "execution_count": 10,
      "outputs": [
        {
          "output_type": "execute_result",
          "data": {
            "text/plain": [
              "name               object\n",
              "age                 int64\n",
              "department         object\n",
              "cgpa              float64\n",
              "admission_date     object\n",
              "gender             object\n",
              "dtype: object"
            ]
          },
          "metadata": {},
          "execution_count": 10
        }
      ]
    },
    {
      "cell_type": "code",
      "source": [
        "# Check for percentage of  missing values\n",
        "df.isnull().sum()/df.shape[0]*100"
      ],
      "metadata": {
        "colab": {
          "base_uri": "https://localhost:8080/"
        },
        "id": "al6FsW2UXyOB",
        "outputId": "6664d12d-4927-4905-a23e-16e96b2e2953"
      },
      "execution_count": 12,
      "outputs": [
        {
          "output_type": "execute_result",
          "data": {
            "text/plain": [
              "name              0.0\n",
              "age               0.0\n",
              "department        0.0\n",
              "cgpa              0.0\n",
              "admission_date    0.0\n",
              "gender            0.0\n",
              "dtype: float64"
            ]
          },
          "metadata": {},
          "execution_count": 12
        }
      ]
    },
    {
      "cell_type": "code",
      "source": [
        "# Check unique values in each of the columns"
      ],
      "metadata": {
        "id": "hn99VRNn_16o"
      },
      "execution_count": 13,
      "outputs": []
    },
    {
      "cell_type": "code",
      "source": [
        "df.name.unique()"
      ],
      "metadata": {
        "colab": {
          "base_uri": "https://localhost:8080/"
        },
        "id": "9avH4yEyi1uW",
        "outputId": "c9a3476c-0626-4eed-bc3d-1332a56c5836"
      },
      "execution_count": 17,
      "outputs": [
        {
          "output_type": "execute_result",
          "data": {
            "text/plain": [
              "array(['bayo', 'tunde', 'bola', 'wunmi', 'jide', 'kola', 'shade',\n",
              "       'gideon', 'tolu', 'evelyn'], dtype=object)"
            ]
          },
          "metadata": {},
          "execution_count": 17
        }
      ]
    },
    {
      "cell_type": "code",
      "source": [
        "df.age.unique()"
      ],
      "metadata": {
        "colab": {
          "base_uri": "https://localhost:8080/"
        },
        "id": "fF8o5fa-i63O",
        "outputId": "0adb35bd-ac3f-4760-9f4a-d9fe032ea24a"
      },
      "execution_count": 18,
      "outputs": [
        {
          "output_type": "execute_result",
          "data": {
            "text/plain": [
              "array([20, 23, 26, 30, 33, 28, 27])"
            ]
          },
          "metadata": {},
          "execution_count": 18
        }
      ]
    },
    {
      "cell_type": "code",
      "source": [
        "df.department.unique()"
      ],
      "metadata": {
        "colab": {
          "base_uri": "https://localhost:8080/"
        },
        "id": "OPvFh76bi6p0",
        "outputId": "684c9915-5335-4c29-a218-3b5f0505cb89"
      },
      "execution_count": 19,
      "outputs": [
        {
          "output_type": "execute_result",
          "data": {
            "text/plain": [
              "array(['microbiology', 'botany', 'biochemistry', 'zoology'], dtype=object)"
            ]
          },
          "metadata": {},
          "execution_count": 19
        }
      ]
    },
    {
      "cell_type": "code",
      "source": [
        "df.admission_date.unique()"
      ],
      "metadata": {
        "colab": {
          "base_uri": "https://localhost:8080/"
        },
        "id": "FAoiPnyPi6UI",
        "outputId": "a13dd25b-7cfd-4f42-badd-4b9c4802d233"
      },
      "execution_count": 20,
      "outputs": [
        {
          "output_type": "execute_result",
          "data": {
            "text/plain": [
              "array([<function to_datetime at 0x7f4afa65b320>], dtype=object)"
            ]
          },
          "metadata": {},
          "execution_count": 20
        }
      ]
    },
    {
      "cell_type": "code",
      "source": [
        "df.gender.unique()"
      ],
      "metadata": {
        "colab": {
          "base_uri": "https://localhost:8080/"
        },
        "id": "ASVZA_A9jHOT",
        "outputId": "f70588dc-9022-49bf-8684-db3409b3cc5b"
      },
      "execution_count": 21,
      "outputs": [
        {
          "output_type": "execute_result",
          "data": {
            "text/plain": [
              "array(['m', 'f'], dtype=object)"
            ]
          },
          "metadata": {},
          "execution_count": 21
        }
      ]
    },
    {
      "cell_type": "code",
      "source": [
        "# Check number of unique values in each of the columns"
      ],
      "metadata": {
        "id": "FA7zMFBkjUvA"
      },
      "execution_count": 22,
      "outputs": []
    },
    {
      "cell_type": "code",
      "source": [
        "df.name.nunique()"
      ],
      "metadata": {
        "colab": {
          "base_uri": "https://localhost:8080/"
        },
        "id": "-Aer4zL5jYxi",
        "outputId": "ed3f3e6e-b1ad-4dca-be74-9addb532326f"
      },
      "execution_count": 23,
      "outputs": [
        {
          "output_type": "execute_result",
          "data": {
            "text/plain": [
              "10"
            ]
          },
          "metadata": {},
          "execution_count": 23
        }
      ]
    },
    {
      "cell_type": "code",
      "source": [
        "df.age.nunique()"
      ],
      "metadata": {
        "colab": {
          "base_uri": "https://localhost:8080/"
        },
        "id": "Cr0vgLnbjiDg",
        "outputId": "47e75cef-6c31-4c5d-d7c7-717b0b0d9e9b"
      },
      "execution_count": 24,
      "outputs": [
        {
          "output_type": "execute_result",
          "data": {
            "text/plain": [
              "7"
            ]
          },
          "metadata": {},
          "execution_count": 24
        }
      ]
    },
    {
      "cell_type": "code",
      "source": [
        "df.department.nunique()"
      ],
      "metadata": {
        "colab": {
          "base_uri": "https://localhost:8080/"
        },
        "id": "5gS69Iopjl66",
        "outputId": "569d0ee2-7795-40e9-e346-bb0554f0127a"
      },
      "execution_count": 25,
      "outputs": [
        {
          "output_type": "execute_result",
          "data": {
            "text/plain": [
              "4"
            ]
          },
          "metadata": {},
          "execution_count": 25
        }
      ]
    },
    {
      "cell_type": "code",
      "source": [
        "df.admission_date.nunique()"
      ],
      "metadata": {
        "colab": {
          "base_uri": "https://localhost:8080/"
        },
        "id": "BFNEuPDIjr0V",
        "outputId": "3a654c90-2cd6-4239-d72b-e4de76d412ca"
      },
      "execution_count": 46,
      "outputs": [
        {
          "output_type": "execute_result",
          "data": {
            "text/plain": [
              "10"
            ]
          },
          "metadata": {},
          "execution_count": 46
        }
      ]
    },
    {
      "cell_type": "code",
      "source": [
        "df.gender.nunique()"
      ],
      "metadata": {
        "colab": {
          "base_uri": "https://localhost:8080/"
        },
        "id": "EsalSTRmjydi",
        "outputId": "2b6443cb-14fe-4fda-bf34-f452b18745f3"
      },
      "execution_count": 27,
      "outputs": [
        {
          "output_type": "execute_result",
          "data": {
            "text/plain": [
              "2"
            ]
          },
          "metadata": {},
          "execution_count": 27
        }
      ]
    },
    {
      "cell_type": "code",
      "source": [
        "# Check value counts for each of the columns"
      ],
      "metadata": {
        "id": "F4CUXkR5kHt1"
      },
      "execution_count": null,
      "outputs": []
    },
    {
      "cell_type": "code",
      "source": [
        "df.name.value_counts()"
      ],
      "metadata": {
        "colab": {
          "base_uri": "https://localhost:8080/"
        },
        "id": "B8JIegnwkNr2",
        "outputId": "12d8cffe-60d3-4e7a-c644-b30cecffe0c7"
      },
      "execution_count": 28,
      "outputs": [
        {
          "output_type": "execute_result",
          "data": {
            "text/plain": [
              "bayo      1\n",
              "tunde     1\n",
              "bola      1\n",
              "wunmi     1\n",
              "jide      1\n",
              "kola      1\n",
              "shade     1\n",
              "gideon    1\n",
              "tolu      1\n",
              "evelyn    1\n",
              "Name: name, dtype: int64"
            ]
          },
          "metadata": {},
          "execution_count": 28
        }
      ]
    },
    {
      "cell_type": "code",
      "source": [
        "df.age.value_counts()"
      ],
      "metadata": {
        "colab": {
          "base_uri": "https://localhost:8080/"
        },
        "id": "2P6dexZWkbnZ",
        "outputId": "e5ddfe50-6f98-4060-c84e-e6c20738b33d"
      },
      "execution_count": 29,
      "outputs": [
        {
          "output_type": "execute_result",
          "data": {
            "text/plain": [
              "26    3\n",
              "23    2\n",
              "20    1\n",
              "30    1\n",
              "33    1\n",
              "28    1\n",
              "27    1\n",
              "Name: age, dtype: int64"
            ]
          },
          "metadata": {},
          "execution_count": 29
        }
      ]
    },
    {
      "cell_type": "code",
      "source": [
        "df.department.value_counts()"
      ],
      "metadata": {
        "colab": {
          "base_uri": "https://localhost:8080/"
        },
        "id": "jWs9H-WWkfWj",
        "outputId": "758c6d17-5d2f-489a-ebd7-fbb400ffba05"
      },
      "execution_count": 30,
      "outputs": [
        {
          "output_type": "execute_result",
          "data": {
            "text/plain": [
              "botany          4\n",
              "microbiology    2\n",
              "biochemistry    2\n",
              "zoology         2\n",
              "Name: department, dtype: int64"
            ]
          },
          "metadata": {},
          "execution_count": 30
        }
      ]
    },
    {
      "cell_type": "code",
      "source": [
        "df.admission_date.value_counts()"
      ],
      "metadata": {
        "colab": {
          "base_uri": "https://localhost:8080/"
        },
        "id": "UHf0sf-Ekk_d",
        "outputId": "fc813a0e-8e5a-44ca-f8bc-d64662e20ded"
      },
      "execution_count": 47,
      "outputs": [
        {
          "output_type": "execute_result",
          "data": {
            "text/plain": [
              "2015-02-01 09:00:00    1\n",
              "2015-02-01 09:30:00    1\n",
              "2017-04-07 07:45:00    1\n",
              "2016-01-07 08:10:00    1\n",
              "2015-02-01 10:01:00    1\n",
              "2014-01-03 10:00:00    1\n",
              "2016-04-07 09:15:00    1\n",
              "2017-01-07 12:00:00    1\n",
              "2015-02-01 12:00:00    1\n",
              "2017-04-07 09:05:00    1\n",
              "Name: admission_date, dtype: int64"
            ]
          },
          "metadata": {},
          "execution_count": 47
        }
      ]
    },
    {
      "cell_type": "code",
      "source": [
        "df.gender.value_counts()"
      ],
      "metadata": {
        "colab": {
          "base_uri": "https://localhost:8080/"
        },
        "id": "1T3Nt77FkpfU",
        "outputId": "d409e57c-fbe1-4194-d2ae-5f67d5c943bd"
      },
      "execution_count": 32,
      "outputs": [
        {
          "output_type": "execute_result",
          "data": {
            "text/plain": [
              "m    5\n",
              "f    5\n",
              "Name: gender, dtype: int64"
            ]
          },
          "metadata": {},
          "execution_count": 32
        }
      ]
    },
    {
      "cell_type": "code",
      "source": [
        "# df.info()\n",
        "df.info()"
      ],
      "metadata": {
        "id": "gJozSZyOAE4I",
        "colab": {
          "base_uri": "https://localhost:8080/"
        },
        "outputId": "ef919c6e-8b9b-4443-8885-56d2e0dac263"
      },
      "execution_count": 25,
      "outputs": [
        {
          "output_type": "stream",
          "name": "stdout",
          "text": [
            "<class 'pandas.core.frame.DataFrame'>\n",
            "RangeIndex: 10 entries, 0 to 9\n",
            "Data columns (total 6 columns):\n",
            " #   Column          Non-Null Count  Dtype  \n",
            "---  ------          --------------  -----  \n",
            " 0   name            10 non-null     object \n",
            " 1   age             10 non-null     int64  \n",
            " 2   department      10 non-null     object \n",
            " 3   cgpa            10 non-null     float64\n",
            " 4   admission_date  10 non-null     object \n",
            " 5   gender          10 non-null     object \n",
            "dtypes: float64(1), int64(1), object(4)\n",
            "memory usage: 608.0+ bytes\n"
          ]
        }
      ]
    },
    {
      "cell_type": "code",
      "source": [
        "# How many rows and columns do you have? show it with df.shape\n",
        "df.shape"
      ],
      "metadata": {
        "id": "8Nts3QA4D6qb",
        "colab": {
          "base_uri": "https://localhost:8080/"
        },
        "outputId": "6bc5ec53-e96a-4539-84a5-37703fa0acaa"
      },
      "execution_count": 13,
      "outputs": [
        {
          "output_type": "execute_result",
          "data": {
            "text/plain": [
              "(10, 6)"
            ]
          },
          "metadata": {},
          "execution_count": 13
        }
      ]
    },
    {
      "cell_type": "code",
      "source": [
        "# Subset the dataframe for male gender\n",
        "df.query(\"gender=='male'\") # complete the code"
      ],
      "metadata": {
        "id": "0QrErZ0BEB2H",
        "colab": {
          "base_uri": "https://localhost:8080/",
          "height": 49
        },
        "outputId": "68c73a87-8bd5-47be-d794-ffd4500bb266"
      },
      "execution_count": 18,
      "outputs": [
        {
          "output_type": "execute_result",
          "data": {
            "text/plain": [
              "Empty DataFrame\n",
              "Columns: [name, age, department, cgpa, admission_date, gender]\n",
              "Index: []"
            ],
            "text/html": [
              "\n",
              "  <div id=\"df-5662a2ee-f747-4ae7-b4b8-d01433a76025\">\n",
              "    <div class=\"colab-df-container\">\n",
              "      <div>\n",
              "<style scoped>\n",
              "    .dataframe tbody tr th:only-of-type {\n",
              "        vertical-align: middle;\n",
              "    }\n",
              "\n",
              "    .dataframe tbody tr th {\n",
              "        vertical-align: top;\n",
              "    }\n",
              "\n",
              "    .dataframe thead th {\n",
              "        text-align: right;\n",
              "    }\n",
              "</style>\n",
              "<table border=\"1\" class=\"dataframe\">\n",
              "  <thead>\n",
              "    <tr style=\"text-align: right;\">\n",
              "      <th></th>\n",
              "      <th>name</th>\n",
              "      <th>age</th>\n",
              "      <th>department</th>\n",
              "      <th>cgpa</th>\n",
              "      <th>admission_date</th>\n",
              "      <th>gender</th>\n",
              "    </tr>\n",
              "  </thead>\n",
              "  <tbody>\n",
              "  </tbody>\n",
              "</table>\n",
              "</div>\n",
              "      <button class=\"colab-df-convert\" onclick=\"convertToInteractive('df-5662a2ee-f747-4ae7-b4b8-d01433a76025')\"\n",
              "              title=\"Convert this dataframe to an interactive table.\"\n",
              "              style=\"display:none;\">\n",
              "        \n",
              "  <svg xmlns=\"http://www.w3.org/2000/svg\" height=\"24px\"viewBox=\"0 0 24 24\"\n",
              "       width=\"24px\">\n",
              "    <path d=\"M0 0h24v24H0V0z\" fill=\"none\"/>\n",
              "    <path d=\"M18.56 5.44l.94 2.06.94-2.06 2.06-.94-2.06-.94-.94-2.06-.94 2.06-2.06.94zm-11 1L8.5 8.5l.94-2.06 2.06-.94-2.06-.94L8.5 2.5l-.94 2.06-2.06.94zm10 10l.94 2.06.94-2.06 2.06-.94-2.06-.94-.94-2.06-.94 2.06-2.06.94z\"/><path d=\"M17.41 7.96l-1.37-1.37c-.4-.4-.92-.59-1.43-.59-.52 0-1.04.2-1.43.59L10.3 9.45l-7.72 7.72c-.78.78-.78 2.05 0 2.83L4 21.41c.39.39.9.59 1.41.59.51 0 1.02-.2 1.41-.59l7.78-7.78 2.81-2.81c.8-.78.8-2.07 0-2.86zM5.41 20L4 18.59l7.72-7.72 1.47 1.35L5.41 20z\"/>\n",
              "  </svg>\n",
              "      </button>\n",
              "      \n",
              "  <style>\n",
              "    .colab-df-container {\n",
              "      display:flex;\n",
              "      flex-wrap:wrap;\n",
              "      gap: 12px;\n",
              "    }\n",
              "\n",
              "    .colab-df-convert {\n",
              "      background-color: #E8F0FE;\n",
              "      border: none;\n",
              "      border-radius: 50%;\n",
              "      cursor: pointer;\n",
              "      display: none;\n",
              "      fill: #1967D2;\n",
              "      height: 32px;\n",
              "      padding: 0 0 0 0;\n",
              "      width: 32px;\n",
              "    }\n",
              "\n",
              "    .colab-df-convert:hover {\n",
              "      background-color: #E2EBFA;\n",
              "      box-shadow: 0px 1px 2px rgba(60, 64, 67, 0.3), 0px 1px 3px 1px rgba(60, 64, 67, 0.15);\n",
              "      fill: #174EA6;\n",
              "    }\n",
              "\n",
              "    [theme=dark] .colab-df-convert {\n",
              "      background-color: #3B4455;\n",
              "      fill: #D2E3FC;\n",
              "    }\n",
              "\n",
              "    [theme=dark] .colab-df-convert:hover {\n",
              "      background-color: #434B5C;\n",
              "      box-shadow: 0px 1px 3px 1px rgba(0, 0, 0, 0.15);\n",
              "      filter: drop-shadow(0px 1px 2px rgba(0, 0, 0, 0.3));\n",
              "      fill: #FFFFFF;\n",
              "    }\n",
              "  </style>\n",
              "\n",
              "      <script>\n",
              "        const buttonEl =\n",
              "          document.querySelector('#df-5662a2ee-f747-4ae7-b4b8-d01433a76025 button.colab-df-convert');\n",
              "        buttonEl.style.display =\n",
              "          google.colab.kernel.accessAllowed ? 'block' : 'none';\n",
              "\n",
              "        async function convertToInteractive(key) {\n",
              "          const element = document.querySelector('#df-5662a2ee-f747-4ae7-b4b8-d01433a76025');\n",
              "          const dataTable =\n",
              "            await google.colab.kernel.invokeFunction('convertToInteractive',\n",
              "                                                     [key], {});\n",
              "          if (!dataTable) return;\n",
              "\n",
              "          const docLinkHtml = 'Like what you see? Visit the ' +\n",
              "            '<a target=\"_blank\" href=https://colab.research.google.com/notebooks/data_table.ipynb>data table notebook</a>'\n",
              "            + ' to learn more about interactive tables.';\n",
              "          element.innerHTML = '';\n",
              "          dataTable['output_type'] = 'display_data';\n",
              "          await google.colab.output.renderOutput(dataTable, element);\n",
              "          const docLink = document.createElement('div');\n",
              "          docLink.innerHTML = docLinkHtml;\n",
              "          element.appendChild(docLink);\n",
              "        }\n",
              "      </script>\n",
              "    </div>\n",
              "  </div>\n",
              "  "
            ]
          },
          "metadata": {},
          "execution_count": 18
        }
      ]
    },
    {
      "cell_type": "code",
      "source": [
        "# Find the mean,max, min, sum CGPA"
      ],
      "metadata": {
        "id": "pshwvoc7EXU1"
      },
      "execution_count": null,
      "outputs": []
    },
    {
      "cell_type": "code",
      "source": [
        "dmean= df['cgpa'].mean()\n",
        "dmax = df['cgpa'].max() \n",
        "dmin = df['cgpa'].min() \n",
        "dsum = df['cgpa'].sum()\n",
        "print('The mean is ', dmean)\n",
        "print('The maximum value is ', dmax)  \n",
        "print('The minimum value is ',dmin)\n",
        "print('The sum is ',dsum)"
      ],
      "metadata": {
        "id": "YXDDh1EPEbi-",
        "outputId": "54d21d40-d940-452e-bf1c-76ad62d58a63",
        "colab": {
          "base_uri": "https://localhost:8080/"
        }
      },
      "execution_count": 11,
      "outputs": [
        {
          "output_type": "stream",
          "name": "stdout",
          "text": [
            "The mean is  3.4130000000000003\n",
            " the maximum value is  4.21\n",
            "The minimum value is  2.33\n",
            "The sum is  34.13\n"
          ]
        }
      ]
    },
    {
      "cell_type": "code",
      "source": [
        "# Check your df to be sure that you have all the rows and columns\n",
        "df\n",
        "# write your data frame to a csv file\n"
      ],
      "metadata": {
        "id": "sEcyjUZSEo-7",
        "colab": {
          "base_uri": "https://localhost:8080/",
          "height": 363
        },
        "outputId": "bced39fc-53ad-4d31-c38d-2ef21e07d603"
      },
      "execution_count": 48,
      "outputs": [
        {
          "output_type": "execute_result",
          "data": {
            "text/plain": [
              "     name  age    department  cgpa      admission_date gender  year  month  \\\n",
              "0    bayo   20  microbiology  3.92 2015-02-01 09:00:00      m  2015      2   \n",
              "1   tunde   23        botany  3.55 2015-02-01 09:30:00      m  2015      2   \n",
              "2    bola   23  biochemistry  2.60 2017-04-07 07:45:00      f  2017      4   \n",
              "3   wunmi   26        botany  4.21 2016-01-07 08:10:00      f  2016      1   \n",
              "4    jide   30  microbiology  2.79 2015-02-01 10:01:00      m  2015      2   \n",
              "5    kola   33        botany  3.50 2014-01-03 10:00:00      m  2014      1   \n",
              "6   shade   28        botany  4.12 2016-04-07 09:15:00      f  2016      4   \n",
              "7  gideon   26  biochemistry  3.62 2017-01-07 12:00:00      m  2017      1   \n",
              "8    tolu   27       zoology  2.33 2015-02-01 12:00:00      f  2015      2   \n",
              "9  evelyn   26       zoology  3.49 2017-04-07 09:05:00      f  2017      4   \n",
              "\n",
              "   day  \n",
              "0    1  \n",
              "1    1  \n",
              "2    7  \n",
              "3    7  \n",
              "4    1  \n",
              "5    3  \n",
              "6    7  \n",
              "7    7  \n",
              "8    1  \n",
              "9    7  "
            ],
            "text/html": [
              "\n",
              "  <div id=\"df-c6f0e05c-3d25-4014-964e-46a6dbcb6365\">\n",
              "    <div class=\"colab-df-container\">\n",
              "      <div>\n",
              "<style scoped>\n",
              "    .dataframe tbody tr th:only-of-type {\n",
              "        vertical-align: middle;\n",
              "    }\n",
              "\n",
              "    .dataframe tbody tr th {\n",
              "        vertical-align: top;\n",
              "    }\n",
              "\n",
              "    .dataframe thead th {\n",
              "        text-align: right;\n",
              "    }\n",
              "</style>\n",
              "<table border=\"1\" class=\"dataframe\">\n",
              "  <thead>\n",
              "    <tr style=\"text-align: right;\">\n",
              "      <th></th>\n",
              "      <th>name</th>\n",
              "      <th>age</th>\n",
              "      <th>department</th>\n",
              "      <th>cgpa</th>\n",
              "      <th>admission_date</th>\n",
              "      <th>gender</th>\n",
              "      <th>year</th>\n",
              "      <th>month</th>\n",
              "      <th>day</th>\n",
              "    </tr>\n",
              "  </thead>\n",
              "  <tbody>\n",
              "    <tr>\n",
              "      <th>0</th>\n",
              "      <td>bayo</td>\n",
              "      <td>20</td>\n",
              "      <td>microbiology</td>\n",
              "      <td>3.92</td>\n",
              "      <td>2015-02-01 09:00:00</td>\n",
              "      <td>m</td>\n",
              "      <td>2015</td>\n",
              "      <td>2</td>\n",
              "      <td>1</td>\n",
              "    </tr>\n",
              "    <tr>\n",
              "      <th>1</th>\n",
              "      <td>tunde</td>\n",
              "      <td>23</td>\n",
              "      <td>botany</td>\n",
              "      <td>3.55</td>\n",
              "      <td>2015-02-01 09:30:00</td>\n",
              "      <td>m</td>\n",
              "      <td>2015</td>\n",
              "      <td>2</td>\n",
              "      <td>1</td>\n",
              "    </tr>\n",
              "    <tr>\n",
              "      <th>2</th>\n",
              "      <td>bola</td>\n",
              "      <td>23</td>\n",
              "      <td>biochemistry</td>\n",
              "      <td>2.60</td>\n",
              "      <td>2017-04-07 07:45:00</td>\n",
              "      <td>f</td>\n",
              "      <td>2017</td>\n",
              "      <td>4</td>\n",
              "      <td>7</td>\n",
              "    </tr>\n",
              "    <tr>\n",
              "      <th>3</th>\n",
              "      <td>wunmi</td>\n",
              "      <td>26</td>\n",
              "      <td>botany</td>\n",
              "      <td>4.21</td>\n",
              "      <td>2016-01-07 08:10:00</td>\n",
              "      <td>f</td>\n",
              "      <td>2016</td>\n",
              "      <td>1</td>\n",
              "      <td>7</td>\n",
              "    </tr>\n",
              "    <tr>\n",
              "      <th>4</th>\n",
              "      <td>jide</td>\n",
              "      <td>30</td>\n",
              "      <td>microbiology</td>\n",
              "      <td>2.79</td>\n",
              "      <td>2015-02-01 10:01:00</td>\n",
              "      <td>m</td>\n",
              "      <td>2015</td>\n",
              "      <td>2</td>\n",
              "      <td>1</td>\n",
              "    </tr>\n",
              "    <tr>\n",
              "      <th>5</th>\n",
              "      <td>kola</td>\n",
              "      <td>33</td>\n",
              "      <td>botany</td>\n",
              "      <td>3.50</td>\n",
              "      <td>2014-01-03 10:00:00</td>\n",
              "      <td>m</td>\n",
              "      <td>2014</td>\n",
              "      <td>1</td>\n",
              "      <td>3</td>\n",
              "    </tr>\n",
              "    <tr>\n",
              "      <th>6</th>\n",
              "      <td>shade</td>\n",
              "      <td>28</td>\n",
              "      <td>botany</td>\n",
              "      <td>4.12</td>\n",
              "      <td>2016-04-07 09:15:00</td>\n",
              "      <td>f</td>\n",
              "      <td>2016</td>\n",
              "      <td>4</td>\n",
              "      <td>7</td>\n",
              "    </tr>\n",
              "    <tr>\n",
              "      <th>7</th>\n",
              "      <td>gideon</td>\n",
              "      <td>26</td>\n",
              "      <td>biochemistry</td>\n",
              "      <td>3.62</td>\n",
              "      <td>2017-01-07 12:00:00</td>\n",
              "      <td>m</td>\n",
              "      <td>2017</td>\n",
              "      <td>1</td>\n",
              "      <td>7</td>\n",
              "    </tr>\n",
              "    <tr>\n",
              "      <th>8</th>\n",
              "      <td>tolu</td>\n",
              "      <td>27</td>\n",
              "      <td>zoology</td>\n",
              "      <td>2.33</td>\n",
              "      <td>2015-02-01 12:00:00</td>\n",
              "      <td>f</td>\n",
              "      <td>2015</td>\n",
              "      <td>2</td>\n",
              "      <td>1</td>\n",
              "    </tr>\n",
              "    <tr>\n",
              "      <th>9</th>\n",
              "      <td>evelyn</td>\n",
              "      <td>26</td>\n",
              "      <td>zoology</td>\n",
              "      <td>3.49</td>\n",
              "      <td>2017-04-07 09:05:00</td>\n",
              "      <td>f</td>\n",
              "      <td>2017</td>\n",
              "      <td>4</td>\n",
              "      <td>7</td>\n",
              "    </tr>\n",
              "  </tbody>\n",
              "</table>\n",
              "</div>\n",
              "      <button class=\"colab-df-convert\" onclick=\"convertToInteractive('df-c6f0e05c-3d25-4014-964e-46a6dbcb6365')\"\n",
              "              title=\"Convert this dataframe to an interactive table.\"\n",
              "              style=\"display:none;\">\n",
              "        \n",
              "  <svg xmlns=\"http://www.w3.org/2000/svg\" height=\"24px\"viewBox=\"0 0 24 24\"\n",
              "       width=\"24px\">\n",
              "    <path d=\"M0 0h24v24H0V0z\" fill=\"none\"/>\n",
              "    <path d=\"M18.56 5.44l.94 2.06.94-2.06 2.06-.94-2.06-.94-.94-2.06-.94 2.06-2.06.94zm-11 1L8.5 8.5l.94-2.06 2.06-.94-2.06-.94L8.5 2.5l-.94 2.06-2.06.94zm10 10l.94 2.06.94-2.06 2.06-.94-2.06-.94-.94-2.06-.94 2.06-2.06.94z\"/><path d=\"M17.41 7.96l-1.37-1.37c-.4-.4-.92-.59-1.43-.59-.52 0-1.04.2-1.43.59L10.3 9.45l-7.72 7.72c-.78.78-.78 2.05 0 2.83L4 21.41c.39.39.9.59 1.41.59.51 0 1.02-.2 1.41-.59l7.78-7.78 2.81-2.81c.8-.78.8-2.07 0-2.86zM5.41 20L4 18.59l7.72-7.72 1.47 1.35L5.41 20z\"/>\n",
              "  </svg>\n",
              "      </button>\n",
              "      \n",
              "  <style>\n",
              "    .colab-df-container {\n",
              "      display:flex;\n",
              "      flex-wrap:wrap;\n",
              "      gap: 12px;\n",
              "    }\n",
              "\n",
              "    .colab-df-convert {\n",
              "      background-color: #E8F0FE;\n",
              "      border: none;\n",
              "      border-radius: 50%;\n",
              "      cursor: pointer;\n",
              "      display: none;\n",
              "      fill: #1967D2;\n",
              "      height: 32px;\n",
              "      padding: 0 0 0 0;\n",
              "      width: 32px;\n",
              "    }\n",
              "\n",
              "    .colab-df-convert:hover {\n",
              "      background-color: #E2EBFA;\n",
              "      box-shadow: 0px 1px 2px rgba(60, 64, 67, 0.3), 0px 1px 3px 1px rgba(60, 64, 67, 0.15);\n",
              "      fill: #174EA6;\n",
              "    }\n",
              "\n",
              "    [theme=dark] .colab-df-convert {\n",
              "      background-color: #3B4455;\n",
              "      fill: #D2E3FC;\n",
              "    }\n",
              "\n",
              "    [theme=dark] .colab-df-convert:hover {\n",
              "      background-color: #434B5C;\n",
              "      box-shadow: 0px 1px 3px 1px rgba(0, 0, 0, 0.15);\n",
              "      filter: drop-shadow(0px 1px 2px rgba(0, 0, 0, 0.3));\n",
              "      fill: #FFFFFF;\n",
              "    }\n",
              "  </style>\n",
              "\n",
              "      <script>\n",
              "        const buttonEl =\n",
              "          document.querySelector('#df-c6f0e05c-3d25-4014-964e-46a6dbcb6365 button.colab-df-convert');\n",
              "        buttonEl.style.display =\n",
              "          google.colab.kernel.accessAllowed ? 'block' : 'none';\n",
              "\n",
              "        async function convertToInteractive(key) {\n",
              "          const element = document.querySelector('#df-c6f0e05c-3d25-4014-964e-46a6dbcb6365');\n",
              "          const dataTable =\n",
              "            await google.colab.kernel.invokeFunction('convertToInteractive',\n",
              "                                                     [key], {});\n",
              "          if (!dataTable) return;\n",
              "\n",
              "          const docLinkHtml = 'Like what you see? Visit the ' +\n",
              "            '<a target=\"_blank\" href=https://colab.research.google.com/notebooks/data_table.ipynb>data table notebook</a>'\n",
              "            + ' to learn more about interactive tables.';\n",
              "          element.innerHTML = '';\n",
              "          dataTable['output_type'] = 'display_data';\n",
              "          await google.colab.output.renderOutput(dataTable, element);\n",
              "          const docLink = document.createElement('div');\n",
              "          docLink.innerHTML = docLinkHtml;\n",
              "          element.appendChild(docLink);\n",
              "        }\n",
              "      </script>\n",
              "    </div>\n",
              "  </div>\n",
              "  "
            ]
          },
          "metadata": {},
          "execution_count": 48
        }
      ]
    },
    {
      "cell_type": "code",
      "source": [
        "df.to_csv('df.csv', index=False)   # complete the code # remeber to set index parameter to False\n",
        "# Download the csv file"
      ],
      "metadata": {
        "id": "2Oaeu_8foQnb"
      },
      "execution_count": 51,
      "outputs": []
    },
    {
      "cell_type": "markdown",
      "source": [
        "### Submission\n",
        "Create a folder on your desktop and name it Project 1\n",
        "\n",
        "Move your notebook and the csv you downloaded to the folder\n",
        "\n",
        "Create a github account if you haven't\n",
        "\n",
        "Create a repository for the class and name it Python for Data Science (click on the + sign by the top right corner)\n",
        "\n",
        "Click upload an existing file \n",
        "\n",
        "Drag the Project 1 folder containing your code and the csv file into the Drag here field (Do not click on choose your files)\n",
        "\n",
        "Click on the repository name to go the repository home page\n",
        "\n",
        "Click on the address bar to copy the repository link\n",
        "\n",
        "Submit the link privately to me"
      ],
      "metadata": {
        "id": "lOJWZXDqE9B1"
      }
    },
    {
      "cell_type": "code",
      "source": [
        ""
      ],
      "metadata": {
        "id": "y8uUorTMHv2f"
      },
      "execution_count": null,
      "outputs": []
    }
  ]
}